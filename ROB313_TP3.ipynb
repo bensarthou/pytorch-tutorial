{
  "nbformat": 4,
  "nbformat_minor": 0,
  "metadata": {
    "colab": {
      "name": "ROB313-TP3.ipynb",
      "version": "0.3.2",
      "provenance": [],
      "collapsed_sections": [
        "96LDlsgbqWUS",
        "9Y36bcY_sDB8",
        "6HbwLKshypCY",
        "kINQt5kjzRNB",
        "QoCvBbtGzY29",
        "Kz4hixy5zFJk",
        "uqxsYQudKl3d"
      ],
      "include_colab_link": true
    },
    "kernelspec": {
      "name": "python3",
      "display_name": "Python 3"
    },
    "accelerator": "GPU"
  },
  "cells": [
    {
      "cell_type": "markdown",
      "metadata": {
        "id": "view-in-github",
        "colab_type": "text"
      },
      "source": [
        "<a href=\"https://colab.research.google.com/github/bensarthou/pytorch-tutorial/blob/master/ROB313_TP3.ipynb\" target=\"_parent\"><img src=\"https://colab.research.google.com/assets/colab-badge.svg\" alt=\"Open In Colab\"/></a>"
      ]
    },
    {
      "metadata": {
        "id": "96LDlsgbqWUS",
        "colab_type": "text"
      },
      "cell_type": "markdown",
      "source": [
        "# I - Installation and standards functions\n",
        "\n",
        "In this part, we install the needed library, download the data and define some useful functions for the next part"
      ]
    },
    {
      "metadata": {
        "id": "NFFgKheQ1Lkr",
        "colab_type": "code",
        "colab": {}
      },
      "cell_type": "code",
      "source": [
        "from __future__ import print_function, division\n",
        "\n",
        "import itertools\n",
        "import time\n",
        "import numpy as np\n",
        "import matplotlib.pyplot as plt"
      ],
      "execution_count": 0,
      "outputs": []
    },
    {
      "metadata": {
        "id": "AuA1-BW2qyW_",
        "colab_type": "code",
        "colab": {}
      },
      "cell_type": "code",
      "source": [
        "%matplotlib inline\n",
        "# Python 2/3 compatibility\n",
        "\n",
        "\n",
        "# Colors from Colorbrewer Paired_12\n",
        "colors = [[31, 120, 180], [51, 160, 44]]\n",
        "colors = [(r / 255, g / 255, b / 255) for (r, g, b) in colors]\n",
        "\n",
        "# functions to show an image\n",
        "def imshow(img):\n",
        "    \"\"\"\n",
        "    :param img: (PyTorch Tensor)\n",
        "    \"\"\"\n",
        "    # unnormalize\n",
        "    img = img / 2 + 0.5     \n",
        "    # Convert tensor to numpy array\n",
        "    npimg = img.numpy()\n",
        "    # Color channel first -> color channel last\n",
        "    plt.imshow(np.transpose(npimg, (1, 2, 0)))\n",
        "\n",
        "\n",
        "\n",
        "def plot_losses(train_history, val_history):\n",
        "    x = np.arange(1, len(train_history) + 1)\n",
        "\n",
        "    plt.figure(figsize=(8, 6))\n",
        "    plt.plot(x, train_history, color=colors[0], label=\"Training loss\", linewidth=2)\n",
        "    plt.plot(x, val_history, color=colors[1], label=\"Validation loss\", linewidth=2)\n",
        "    plt.xlabel('Epoch')\n",
        "    plt.ylabel('Loss')\n",
        "    plt.legend(loc='upper right')\n",
        "    plt.title(\"Evolution of the training and validation loss\")\n",
        "    plt.show()\n",
        "\n",
        "def plot_confusion_matrix(cm, classes,\n",
        "                          normalize=False,\n",
        "                          title='Confusion matrix',\n",
        "                          cmap=plt.cm.Blues):\n",
        "    \"\"\"\n",
        "    This function prints and plots the confusion matrix.\n",
        "    Normalization can be applied by setting `normalize=True`.\n",
        "    from http://scikit-learn.org/stable/auto_examples/model_selection/plot_confusion_matrix.html\n",
        "    :param cm: (numpy matrix) confusion matrix\n",
        "    :param classes: [str]\n",
        "    :param normalize: (bool)\n",
        "    :param title: (str)\n",
        "    :param cmap: (matplotlib color map)\n",
        "    \"\"\"\n",
        "    if normalize:\n",
        "        cm = cm.astype('float') / cm.sum(axis=1)[:, np.newaxis]\n",
        "        \n",
        "    plt.figure(figsize=(8, 8))   \n",
        "    plt.imshow(cm, interpolation='nearest', cmap=cmap)\n",
        "    plt.title(title)\n",
        "    plt.colorbar()\n",
        "    tick_marks = np.arange(len(classes))\n",
        "    plt.xticks(tick_marks, classes, rotation=45)\n",
        "    plt.yticks(tick_marks, classes)\n",
        "\n",
        "    fmt = '.2f' if normalize else 'd'\n",
        "    thresh = cm.max() / 2.\n",
        "    for i, j in itertools.product(range(cm.shape[0]), range(cm.shape[1])):\n",
        "        plt.text(j, i, format(cm[i, j], fmt),\n",
        "                 horizontalalignment=\"center\",\n",
        "                 color=\"white\" if cm[i, j] > thresh else \"black\")\n",
        "\n",
        "    plt.tight_layout()\n",
        "    plt.ylabel('True label')\n",
        "    plt.xlabel('Predicted label')"
      ],
      "execution_count": 0,
      "outputs": []
    },
    {
      "metadata": {
        "id": "WjgZKcPsrL3b",
        "colab_type": "text"
      },
      "cell_type": "markdown",
      "source": [
        "1) Install Torch, PyTorch and TorchVision"
      ]
    },
    {
      "metadata": {
        "id": "ggQ3BK8Gq6ak",
        "colab_type": "code",
        "outputId": "271ab314-829b-4be8-c51d-f96025911238",
        "colab": {
          "base_uri": "https://localhost:8080/",
          "height": 407
        }
      },
      "cell_type": "code",
      "source": [
        "!pip install http://download.pytorch.org/whl/cu92/torch-0.4.1-cp36-cp36m-linux_x86_64.whl\n",
        "!pip install torchvision"
      ],
      "execution_count": 3,
      "outputs": [
        {
          "output_type": "stream",
          "text": [
            "Collecting torch==0.4.1 from http://download.pytorch.org/whl/cu92/torch-0.4.1-cp36-cp36m-linux_x86_64.whl\n",
            "\u001b[?25l  Downloading http://download.pytorch.org/whl/cu92/torch-0.4.1-cp36-cp36m-linux_x86_64.whl (512.6MB)\n",
            "\u001b[K    100% |████████████████████████████████| 512.6MB 49.2MB/s \n",
            "tcmalloc: large alloc 1073750016 bytes == 0x58dd2000 @  0x7f5542cbe2a4 0x591a07 0x5b5d56 0x502e9a 0x506859 0x502209 0x502f3d 0x506859 0x504c28 0x502540 0x502f3d 0x506859 0x504c28 0x502540 0x502f3d 0x506859 0x504c28 0x502540 0x502f3d 0x507641 0x502209 0x502f3d 0x506859 0x504c28 0x502540 0x502f3d 0x507641 0x504c28 0x502540 0x502f3d 0x507641\n",
            "\u001b[?25hInstalling collected packages: torch\n",
            "Successfully installed torch-0.4.1\n",
            "Collecting torchvision\n",
            "\u001b[?25l  Downloading https://files.pythonhosted.org/packages/ca/0d/f00b2885711e08bd71242ebe7b96561e6f6d01fdb4b9dcf4d37e2e13c5e1/torchvision-0.2.1-py2.py3-none-any.whl (54kB)\n",
            "\u001b[K    100% |████████████████████████████████| 61kB 2.4MB/s \n",
            "\u001b[?25hRequirement already satisfied: numpy in /usr/local/lib/python3.6/dist-packages (from torchvision) (1.14.6)\n",
            "Requirement already satisfied: torch in /usr/local/lib/python3.6/dist-packages (from torchvision) (0.4.1)\n",
            "Collecting pillow>=4.1.1 (from torchvision)\n",
            "\u001b[?25l  Downloading https://files.pythonhosted.org/packages/62/94/5430ebaa83f91cc7a9f687ff5238e26164a779cca2ef9903232268b0a318/Pillow-5.3.0-cp36-cp36m-manylinux1_x86_64.whl (2.0MB)\n",
            "\u001b[K    100% |████████████████████████████████| 2.0MB 12.3MB/s \n",
            "\u001b[?25hRequirement already satisfied: six in /usr/local/lib/python3.6/dist-packages (from torchvision) (1.11.0)\n",
            "Installing collected packages: pillow, torchvision\n",
            "  Found existing installation: Pillow 4.0.0\n",
            "    Uninstalling Pillow-4.0.0:\n",
            "      Successfully uninstalled Pillow-4.0.0\n",
            "Successfully installed pillow-5.3.0 torchvision-0.2.1\n"
          ],
          "name": "stdout"
        }
      ]
    },
    {
      "metadata": {
        "id": "VvPCvBH7rUgv",
        "colab_type": "text"
      },
      "cell_type": "markdown",
      "source": [
        "2) Define CUDA device for GPU acceleration"
      ]
    },
    {
      "metadata": {
        "id": "CqCcuV-6q-aE",
        "colab_type": "code",
        "colab": {}
      },
      "cell_type": "code",
      "source": [
        "import torch as th\n",
        "import torch\n",
        "import torchvision\n",
        "import torchvision.transforms as transforms\n",
        "\n",
        "seed = 42\n",
        "np.random.seed(seed)\n",
        "th.manual_seed(seed)\n",
        "\n",
        "if th.cuda.is_available():\n",
        "  # Make CuDNN Determinist\n",
        "  th.backends.cudnn.deterministic = True\n",
        "  th.cuda.manual_seed(seed)\n",
        "\n",
        "# Define default device, we should use the GPU (cuda) if available\n",
        "device = th.device(\"cuda\" if th.cuda.is_available() else \"cpu\")\n"
      ],
      "execution_count": 0,
      "outputs": []
    },
    {
      "metadata": {
        "id": "ba84AoBhrnwt",
        "colab_type": "text"
      },
      "cell_type": "markdown",
      "source": [
        "3) Download data, pre-process it and split into a train, validation and test set"
      ]
    },
    {
      "metadata": {
        "id": "6mQjiokrru9x",
        "colab_type": "code",
        "outputId": "22bd4eda-27d5-4835-883c-6be3d3139ff7",
        "colab": {
          "base_uri": "https://localhost:8080/",
          "height": 54
        }
      },
      "cell_type": "code",
      "source": [
        "from torch.utils.data.sampler import SubsetRandomSampler\n",
        "\n",
        "n_training_samples = 20000 # Max: 50 000 - n_val_samples\n",
        "n_val_samples = 5000\n",
        "n_test_samples = 5000\n",
        "\n",
        "train_sampler = SubsetRandomSampler(np.arange(n_training_samples, dtype=np.int64))\n",
        "val_sampler = SubsetRandomSampler(np.arange(n_training_samples, n_training_samples + n_val_samples, dtype=np.int64))\n",
        "test_sampler = SubsetRandomSampler(np.arange(n_test_samples, dtype=np.int64))\n",
        "\n",
        "num_workers = 2\n",
        "test_batch_size = 4\n",
        "\n",
        "transform = transforms.Compose(\n",
        "    [transforms.ToTensor(),\n",
        "     transforms.Normalize((0.5, 0.5, 0.5), (0.5, 0.5, 0.5))])\n",
        "\n",
        "train_set = torchvision.datasets.CIFAR10(root='./data', train=True,\n",
        "                                        download=True, transform=transform)\n",
        "\n",
        "train_loader = th.utils.data.DataLoader(train_set, batch_size=test_batch_size, sampler=train_sampler,\n",
        "                                          num_workers=num_workers)\n",
        "\n",
        "test_set = torchvision.datasets.CIFAR10(root='./data', train=False,\n",
        "                                       download=True, transform=transform)\n",
        "test_loader = th.utils.data.DataLoader(test_set, batch_size=test_batch_size, sampler=test_sampler,\n",
        "                                         num_workers=num_workers)\n",
        "\n",
        "classes = ('plane', 'car', 'bird', 'cat',\n",
        "           'deer', 'dog', 'frog', 'horse', 'ship', 'truck')"
      ],
      "execution_count": 5,
      "outputs": [
        {
          "output_type": "stream",
          "text": [
            "Downloading https://www.cs.toronto.edu/~kriz/cifar-10-python.tar.gz to ./data/cifar-10-python.tar.gz\n",
            "Files already downloaded and verified\n"
          ],
          "name": "stdout"
        }
      ]
    },
    {
      "metadata": {
        "id": "ACS75j6SsBFh",
        "colab_type": "text"
      },
      "cell_type": "markdown",
      "source": [
        ""
      ]
    },
    {
      "metadata": {
        "id": "mJxBvwn1qEJx",
        "colab_type": "code",
        "colab": {}
      },
      "cell_type": "code",
      "source": [
        "#@title ROB313 - Classifying CIFAR10 with Deep Learning\n"
      ],
      "execution_count": 0,
      "outputs": []
    },
    {
      "metadata": {
        "id": "9Y36bcY_sDB8",
        "colab_type": "text"
      },
      "cell_type": "markdown",
      "source": [
        "# II -  Define the NN functions"
      ]
    },
    {
      "metadata": {
        "id": "Sdge6dOjsYl5",
        "colab_type": "code",
        "colab": {}
      },
      "cell_type": "code",
      "source": [
        "# Useful imports\n",
        "import torch.nn as nn\n",
        "import torch.nn.functional as F\n",
        "import torch.optim as optim\n",
        "\n",
        "  \n",
        "def createLossAndOptimizer(net, loss, opti, weight_decay, learning_rate):\n",
        "  \"\"\" Define a loss function, and an optimizer from PyTorch \n",
        "      with the needed parameters\n",
        "      \n",
        "      @param:\n",
        "          net: NN class from PyTorch, define a Neural Net\n",
        "          loss: string, loss function name\n",
        "          opti: string, optimizer name\n",
        "          weight_decay: float, L2 regularization, if not 0.0\n",
        "          learning_rate: float, decay of gradient\n",
        "      \n",
        "      @return:\n",
        "          criterion: Loss function to be optimized from PyTorch\n",
        "          optimizer: optimizer from PyTorch for gradient descent       \n",
        "      \"\"\"\n",
        "  \n",
        "  if loss=='L1':\n",
        "    criterion = nn.L1Loss()\n",
        "  elif loss=='MSE':\n",
        "    criterion = nn.MSELoss()\n",
        "  elif loss=='cross-entropy':\n",
        "    criterion = nn.CrossEntropyLoss()\n",
        "  elif loss=='NLL':\n",
        "    criterion = nn.NLLLoss()\n",
        "  else:\n",
        "    print('Loss function not implemented yet')\n",
        "    raise(ValueError)\n",
        "\n",
        "    \n",
        "  if opti=='Adam':\n",
        "    if weight_decay != 0.0:\n",
        "      optimizer = optim.Adam(net.parameters(), lr=learning_rate,\n",
        "                             weight_decay=weight_decay)    \n",
        "    else:\n",
        "      optimizer = optim.Adam(net.parameters(), lr=learning_rate)    \n",
        "\n",
        "  elif opti=='RMS':\n",
        "    if weight_decay != 0.0:\n",
        "      optimizer = optim.RMSprop(net.parameters(), lr=learning_rate,\n",
        "                                weight_decay=weight_decay)    \n",
        "    else:\n",
        "      optimizer = optim.RMSprop(net.parameters(), lr=learning_rate)    \n",
        "\n",
        "  elif opti=='SGD':\n",
        "    if weight_decay != 0.0:\n",
        "      optimizer = optim.SGD(net.parameters(), lr=learning_rate,\n",
        "                            weight_decay=weight_decay)    \n",
        "    else:\n",
        "      optimizer = optim.SGD(net.parameters(), lr=learning_rate)    \n",
        "\n",
        "  else:\n",
        "    print('Optimizer not implemented yet')\n",
        "    raise(ValueError)    \n",
        "\n",
        "    \n",
        "  return criterion, optimizer"
      ],
      "execution_count": 0,
      "outputs": []
    },
    {
      "metadata": {
        "id": "DvG1x9Otw_Y0",
        "colab_type": "text"
      },
      "cell_type": "markdown",
      "source": [
        "Define function for loading data, according to BATCH_SIZE"
      ]
    },
    {
      "metadata": {
        "id": "2GYIljm5w97y",
        "colab_type": "code",
        "colab": {}
      },
      "cell_type": "code",
      "source": [
        "BATCH_SIZE_VAL = 128\n",
        "\n",
        "def get_train_loader(batch_size):\n",
        "    return th.utils.data.DataLoader(train_set, batch_size=batch_size, sampler=train_sampler,\n",
        "                                              num_workers=num_workers)\n",
        "\n",
        "# Use larger batch size for validation to speed up computation\n",
        "val_loader = th.utils.data.DataLoader(train_set, batch_size=BATCH_SIZE_VAL, sampler=val_sampler,\n",
        "                                          num_workers=num_workers)\n",
        "\n"
      ],
      "execution_count": 0,
      "outputs": []
    },
    {
      "metadata": {
        "id": "EK7juDXPx_a3",
        "colab_type": "text"
      },
      "cell_type": "markdown",
      "source": [
        "Define train function, with hyperparameters"
      ]
    },
    {
      "metadata": {
        "id": "8xaRVa1fxoeU",
        "colab_type": "code",
        "colab": {}
      },
      "cell_type": "code",
      "source": [
        "def train(net, batch_size, n_epochs, learning_rate, loss='cross-entropy',\n",
        "          opti='Adam', weight_decay=0.0, verbose=True):\n",
        "    \"\"\"\n",
        "    Train a neural network and print statistics of the training\n",
        "    \n",
        "    :param  net: (PyTorch Neural Network)\n",
        "    :param batch_size: (int)\n",
        "    :param n_epochs: (int)  Number of iterations on the training set\n",
        "    :param learning_rate: (float) learning rate used by the optimizer\n",
        "    \"\"\"\n",
        "    print(\"===== HYPERPARAMETERS =====\")\n",
        "    print(\"batch_size=\", batch_size)\n",
        "    print(\"n_epochs=\", n_epochs)\n",
        "    print(\"learning_rate=\", learning_rate)\n",
        "    print(\"loss=\", loss)\n",
        "    print(\"opti=\", opti)\n",
        "    print(\"weight_decay=\", weight_decay)\n",
        "    print(\"=\" * 30)\n",
        "    \n",
        "    train_loader = get_train_loader(batch_size)\n",
        "    n_minibatches = len(train_loader)\n",
        "\n",
        "    criterion, optimizer = createLossAndOptimizer(net, loss, opti, weight_decay,\n",
        "                                                  learning_rate)\n",
        "    # Init variables used for plotting the loss\n",
        "    train_history = []\n",
        "    val_history = []\n",
        "\n",
        "    training_start_time = time.time()\n",
        "    best_error = np.inf\n",
        "    best_model_path = \"best_model.pth\"\n",
        "    \n",
        "    # Move model to gpu if possible\n",
        "    net = net.to(device)\n",
        "\n",
        "    for epoch in range(n_epochs):  # loop over the dataset multiple times\n",
        "\n",
        "        running_loss = 0.0\n",
        "        print_every = n_minibatches // 10\n",
        "        start_time = time.time()\n",
        "        total_train_loss = 0\n",
        "        \n",
        "        for i, (inputs, labels) in enumerate(train_loader):\n",
        "\n",
        "            # Move tensors to correct device\n",
        "            inputs, labels = inputs.to(device), labels.to(device)\n",
        "\n",
        "            # zero the parameter gradients\n",
        "            optimizer.zero_grad()\n",
        "\n",
        "            # forward + backward + optimize\n",
        "            outputs = net(inputs)\n",
        "\n",
        "            loss = criterion(outputs, labels)\n",
        "            \n",
        "            loss.backward()\n",
        "            optimizer.step()\n",
        "\n",
        "            # print statistics\n",
        "            running_loss += loss.item()\n",
        "            total_train_loss += loss.item()\n",
        "            \n",
        "            if verbose:\n",
        "              # print every 10th of epoch\n",
        "              if (i + 1) % (print_every + 1) == 0:    \n",
        "                  print(\"Epoch {}, {:d}% \\t train_loss: {:.2f} took: {:.2f}s\".format(\n",
        "                        epoch + 1, int(100 * (i + 1) / n_minibatches), running_loss / print_every,\n",
        "                        time.time() - start_time))\n",
        "                  running_loss = 0.0\n",
        "                  start_time = time.time()\n",
        "\n",
        "        train_history.append(total_train_loss / len(train_loader))\n",
        "\n",
        "        total_val_loss = 0\n",
        "        # Do a pass on the validation set\n",
        "        # We don't need to compute gradient,\n",
        "        # we save memory and computation using th.no_grad()\n",
        "        with th.no_grad():\n",
        "          for inputs, labels in val_loader:\n",
        "              # Move tensors to correct device\n",
        "              inputs, labels = inputs.to(device), labels.to(device)\n",
        "              # Forward pass\n",
        "              predictions = net(inputs)\n",
        "              val_loss = criterion(predictions, labels)\n",
        "              total_val_loss += val_loss.item()\n",
        "            \n",
        "        val_history.append(total_val_loss / len(val_loader))\n",
        "        # Save model that performs best on validation set\n",
        "        if total_val_loss < best_error:\n",
        "            best_error = total_val_loss\n",
        "            th.save(net.state_dict(), best_model_path)\n",
        "\n",
        "        print(\"Validation loss = {:.2f}\".format(total_val_loss / len(val_loader)))\n",
        "\n",
        "    print(\"Training Finished, took {:.2f}s\".format(time.time() - training_start_time))\n",
        "    \n",
        "    # Load best model\n",
        "    net.load_state_dict(th.load(best_model_path))\n",
        "    \n",
        "    return train_history, val_history"
      ],
      "execution_count": 0,
      "outputs": []
    },
    {
      "metadata": {
        "id": "fDBpfWB4yLGX",
        "colab_type": "text"
      },
      "cell_type": "markdown",
      "source": [
        "Define functions for evaluating performance: Accuracy, Confusion matrix"
      ]
    },
    {
      "metadata": {
        "id": "nleVlncUyPvf",
        "colab_type": "code",
        "colab": {}
      },
      "cell_type": "code",
      "source": [
        "def dataset_accuracy(net, data_loader, name=\"\"):\n",
        "    net = net.to(device)\n",
        "    correct = 0\n",
        "    total = 0\n",
        "    for images, labels in data_loader:\n",
        "        images, labels = images.to(device), labels.to(device)\n",
        "        outputs = net(images)\n",
        "        _, predicted = torch.max(outputs, 1)\n",
        "        total += labels.size(0)\n",
        "        correct += (predicted == labels).sum()\n",
        "    accuracy = 100 * float(correct) / total\n",
        "    print('Accuracy of the network on the {} {} images: {:.2f} %'.format(total, name, accuracy))\n",
        "    return accuracy\n",
        "\n",
        "def train_set_accuracy(net):\n",
        "    acc = dataset_accuracy(net, train_loader, \"train\")\n",
        "    return acc\n",
        "  \n",
        "def val_set_accuracy(net):\n",
        "    acc = dataset_accuracy(net, val_loader, \"validation\")  \n",
        "    return acc\n",
        "  \n",
        "def test_set_accuracy(net):\n",
        "    acc = dataset_accuracy(net, test_loader, \"test\")\n",
        "    return acc\n",
        "\n",
        "def compute_accuracy(net):\n",
        "    train_set_accuracy(net)\n",
        "    val_set_accuracy(net)\n",
        "    test_set_accuracy(net)\n",
        "    \n",
        "\n",
        "def accuracy_per_class(net):\n",
        "    net = net.to(device)\n",
        "    n_classes = 10\n",
        "    # (real, predicted)\n",
        "    confusion_matrix = np.zeros((n_classes, n_classes), dtype=np.int64)\n",
        "\n",
        "    for images, labels in test_loader:\n",
        "        images, labels = images, labels = images.to(device), labels.to(device)\n",
        "        outputs = net(images)\n",
        "        _, predicted = torch.max(outputs.data, 1)\n",
        "        for i in range(test_batch_size):\n",
        "            confusion_matrix[labels[i], predicted[i]] += 1\n",
        "            label = labels[i]\n",
        "\n",
        "    print(\"{:<10} {:^10}\".format(\"Class\", \"Accuracy (%)\"))\n",
        "    for i in range(n_classes):\n",
        "        class_total = confusion_matrix[i, :].sum()\n",
        "        class_correct = confusion_matrix[i, i]\n",
        "        percentage_correct = 100.0 * float(class_correct) / class_total\n",
        "        \n",
        "        print('{:<10} {:^10.2f}'.format(classes[i], percentage_correct))\n",
        "    return confusion_matrix\n"
      ],
      "execution_count": 0,
      "outputs": []
    },
    {
      "metadata": {
        "id": "8VnjrLdFygRG",
        "colab_type": "text"
      },
      "cell_type": "markdown",
      "source": [
        "Help for CNN shapes"
      ]
    },
    {
      "metadata": {
        "id": "axAkbLjWyfoT",
        "colab_type": "code",
        "colab": {}
      },
      "cell_type": "code",
      "source": [
        "def get_output_size(in_size, kernel_size, stride=1, padding=0):\n",
        "    \"\"\"\n",
        "    Get the output size given all the parameters of the convolution\n",
        "    :param in_size: (int) input size\n",
        "    :param kernel_size: (int)\n",
        "    :param stride: (int)\n",
        "    :param paddind: (int)\n",
        "    :return: (int)\n",
        "    \"\"\"\n",
        "    return int((in_size - kernel_size + 2 * padding) / stride) + 1"
      ],
      "execution_count": 0,
      "outputs": []
    },
    {
      "metadata": {
        "id": "6HbwLKshypCY",
        "colab_type": "text"
      },
      "cell_type": "markdown",
      "source": [
        "# III - Create a CNN and run it, then test it"
      ]
    },
    {
      "metadata": {
        "id": "kINQt5kjzRNB",
        "colab_type": "text"
      },
      "cell_type": "markdown",
      "source": [
        "## 1) Create the Net"
      ]
    },
    {
      "metadata": {
        "id": "QoCvBbtGzY29",
        "colab_type": "text"
      },
      "cell_type": "markdown",
      "source": [
        "### a) ConvNet"
      ]
    },
    {
      "metadata": {
        "id": "CumQUrVmytp-",
        "colab_type": "code",
        "colab": {}
      },
      "cell_type": "code",
      "source": [
        "class ConvNet(nn.Module):\n",
        "    def __init__(self):\n",
        "        super(ConvNet, self).__init__()\n",
        "        \n",
        "        self.conv1 = nn.Conv2d(3, 18, kernel_size=3, stride=1, padding=1)\n",
        "        self.pool = nn.MaxPool2d(kernel_size=2, stride=2, padding=0)\n",
        "        \n",
        "        # Size of the output of the last convolution:\n",
        "        self.flattened_size = 18 * 16 * 16\n",
        "        ### END CODE ###\n",
        "        \n",
        "        self.fc1 = nn.Linear(self.flattened_size, 64)\n",
        "        self.fc2 = nn.Linear(64, 10)\n",
        "\n",
        "    def forward(self, x):\n",
        "        \"\"\"\n",
        "        Forward pass,\n",
        "        x shape is (batch_size, 3, 32, 32)\n",
        "        (color channel first)\n",
        "        in the comments, we omit the batch_size in the shape\n",
        "        \"\"\"\n",
        "        # shape : 3x32x32 -> 18x32x32\n",
        "        x = F.relu(self.conv1(x))\n",
        "        # 18x32x32 -> 18x16x16\n",
        "        x = self.pool(x)\n",
        "        \n",
        "        # Check the output size\n",
        "        output_size = np.prod(x.size()[1:])\n",
        "        assert output_size == self.flattened_size,\\\n",
        "                \"self.flattened_size is invalid {} != {}\".format(output_size, self.flattened_size)\n",
        "        \n",
        "        # 18x16x16 -> 4608\n",
        "        x = x.view(-1, self.flattened_size)\n",
        "        # 4608 -> 64\n",
        "        x = F.relu(self.fc1(x))\n",
        "        # 64 -> 10\n",
        "        x = self.fc2(x)\n",
        "        return x"
      ],
      "execution_count": 0,
      "outputs": []
    },
    {
      "metadata": {
        "id": "Kz4hixy5zFJk",
        "colab_type": "text"
      },
      "cell_type": "markdown",
      "source": [
        "### b) SimpleNet"
      ]
    },
    {
      "metadata": {
        "id": "Htec-nVky3Ya",
        "colab_type": "code",
        "colab": {}
      },
      "cell_type": "code",
      "source": [
        "class SimpleNet(nn.Module):\n",
        "    def __init__(self):\n",
        "        super(SimpleNet, self).__init__()\n",
        "        \n",
        "\n",
        "        #### START CODE: ADD NEW LAYERS ####\n",
        "        # (do not forget to update `flattened_size`:\n",
        "        # the input size of the first fully connected layer self.fc1)\n",
        "        # self.conv2 = ...\n",
        "\n",
        "        self.conv1 = nn.Conv2d(3, 64, kernel_size=3, stride=1, padding=1)\n",
        "        self.conv1_bn = nn.BatchNorm2d(64)\n",
        "        self.conv2 = nn.Conv2d(64, 128, kernel_size=3, stride=1, padding=1)                \n",
        "        self.conv2_bn = nn.BatchNorm2d(128)\n",
        "        self.conv3 = nn.Conv2d(128, 128, kernel_size=3, stride=1, padding=1)\n",
        "        self.conv3_bn = nn.BatchNorm2d(128)\n",
        "        self.conv4 = nn.Conv2d(128, 128, kernel_size=3, stride=1, padding=1)\n",
        "        self.conv4_bn = nn.BatchNorm2d(128)\n",
        "        self.conv5 = nn.Conv2d(128, 128, kernel_size=3, stride=1, padding=1)\n",
        "        self.conv5_bn = nn.BatchNorm2d(128)\n",
        "        # Add Max Pooling\n",
        "        self.conv6 = nn.Conv2d(128, 128, kernel_size=3, stride=1, padding=1)\n",
        "        self.conv6_bn = nn.BatchNorm2d(128)\n",
        "        self.conv7 = nn.Conv2d(128, 128, kernel_size=3, stride=1, padding=1)\n",
        "        self.conv7_bn = nn.BatchNorm2d(128)\n",
        "        self.conv8 = nn.Conv2d(128, 128, kernel_size=3, stride=1, padding=1)\n",
        "        self.conv8_bn = nn.BatchNorm2d(128)\n",
        "        # Add Max Pooling\n",
        "        self.conv9 = nn.Conv2d(128, 128, kernel_size=3, stride=1, padding=1)\n",
        "        self.conv9_bn = nn.BatchNorm2d(128)\n",
        "        self.conv10 = nn.Conv2d(128, 128, kernel_size=3, stride=1, padding=1)\n",
        "        self.conv10_bn = nn.BatchNorm2d(128)\n",
        "        # Add Max Pooling\n",
        "        self.conv11 = nn.Conv2d(128, 128, kernel_size=3, stride=1, padding=1)\n",
        "        self.conv11_bn = nn.BatchNorm2d(128)                \n",
        "        self.conv12 = nn.Conv2d(128, 128, kernel_size=1, stride=1, padding=0)\n",
        "        self.conv12_bn = nn.BatchNorm2d(128)\n",
        "        self.conv13 = nn.Conv2d(128, 128, kernel_size=1, stride=1, padding=0)\n",
        "        self.conv13_bn = nn.BatchNorm2d(128)\n",
        "        # Add MaxPooling\n",
        "        self.conv14 = nn.Conv2d(128, 128, kernel_size=3, stride=1, padding=1)\n",
        "        self.conv14_bn = nn.BatchNorm2d(128)\n",
        "\n",
        "        # self.pool = nn.MaxPool2d(kernel_size=2, stride=2, padding=0)\n",
        "                \n",
        "        # Size of the output of the last convolution:\n",
        "        self.flattened_size = 128 * 2 * 2\n",
        "\n",
        "        \n",
        "        self.fc1 = nn.Linear(self.flattened_size, 64)\n",
        "        self.fc2 = nn.Linear(64, 10)\n",
        "\n",
        "    def forward(self, x):\n",
        "        \"\"\"\n",
        "        Forward pass,\n",
        "        x shape is (batch_size, 3, 32, 32)\n",
        "        (color channel first)\n",
        "        in the comments, we omit the batch_size in the shape\n",
        "        \"\"\"\n",
        "        # shape : 3x32x32 -> 64x32x32\n",
        "        x = F.relu(self.conv1_bn(self.conv1(x)))\n",
        "        # 64x32x32 -> 128x32x32        \n",
        "        x = F.relu(self.conv2_bn(self.conv2(x)))\n",
        "        # 128x16x16 -> 128x32x32        \n",
        "        x = F.relu(self.conv3_bn(self.conv3(x)))\n",
        "        # 128x16x16 -> 128x32x32        \n",
        "        x = F.relu(self.conv4_bn(self.conv4(x)))\n",
        "        # 128x32x32 -> 128x16x16        \n",
        "        x = F.relu(F.max_pool2d(self.conv5_bn(self.conv5(x)), 2))\n",
        "\n",
        "        # 128x16x16 -> 128x16x16        \n",
        "        x = F.relu(self.conv6_bn(self.conv6(x)))\n",
        "        # 128x16x16 -> 128x16x16        \n",
        "        x = F.relu(self.conv7_bn(self.conv7(x)))\n",
        "        # 128x16x16 -> 128x8x8        \n",
        "        x = F.relu(F.max_pool2d(self.conv8_bn(self.conv8(x)), 2))\n",
        "\n",
        "        # 128x8x8 -> 128x8x8        \n",
        "        x = F.relu(self.conv9_bn(self.conv9(x)))\n",
        "        # 128x8x8 -> 128x4x4        \n",
        "        x = F.relu(F.max_pool2d(self.conv10_bn(self.conv10(x)), 2))\n",
        "\n",
        "        # 128x4x4 -> 128x4x4        \n",
        "        x = F.relu(self.conv11_bn(self.conv11(x)))\n",
        "        # 128x4x4 -> 128x4x4 with Conv(kernel=1, stride=1, padding=0)       \n",
        "        x = F.relu(self.conv12_bn(self.conv12(x)))\n",
        "        # 128x4x4 -> 128x2x2 with Conv(kernel=1, stride=1, padding=0)       \n",
        "        x = F.relu(F.max_pool2d(self.conv13_bn(self.conv13(x)), 2))\n",
        "        \n",
        "        # 128x2x2 -> 128x2x2 with Conv(kernel=3, stride=1, padding=0)       \n",
        "        x = F.relu(self.conv14_bn(self.conv14(x)))\n",
        "\n",
        "        # Check the output size\n",
        "        output_size = np.prod(x.size()[1:])\n",
        "        assert output_size == self.flattened_size,\\\n",
        "                \"self.flattened_size is invalid {} != {}\".format(output_size, self.flattened_size)\n",
        "        \n",
        "        # 18x16x16 -> 4608\n",
        "        x = x.view(-1, self.flattened_size)\n",
        "        # 4608 -> 64\n",
        "        x = F.relu(self.fc1(x))\n",
        "        # 64 -> 10\n",
        "        x = self.fc2(x)\n",
        "        return x\n",
        "      \n",
        " "
      ],
      "execution_count": 0,
      "outputs": []
    },
    {
      "metadata": {
        "id": "uqxsYQudKl3d",
        "colab_type": "text"
      },
      "cell_type": "markdown",
      "source": [
        "### c) ConvDepth"
      ]
    },
    {
      "metadata": {
        "id": "h9hFNIOdLA1O",
        "colab_type": "code",
        "colab": {}
      },
      "cell_type": "code",
      "source": [
        "class ConvDepth2(nn.Module):\n",
        "    def __init__(self):\n",
        "        super(ConvDepth2, self).__init__()\n",
        "        \n",
        "        self.conv1 = nn.Conv2d(3, 128, kernel_size=3, stride=1, padding=1)\n",
        "        self.conv2 = nn.Conv2d(128, 128, kernel_size=3, stride=1, padding=1)\n",
        "        \n",
        "        # Size of the output of the last convolution:\n",
        "        self.flattened_size = 128 * 32 * 32\n",
        "        \n",
        "        self.fc1 = nn.Linear(self.flattened_size, 64)\n",
        "        self.fc2 = nn.Linear(64, 10)\n",
        "\n",
        "    def forward(self, x):\n",
        "        \"\"\"\n",
        "        Forward pass,\n",
        "        x shape is (batch_size, 3, 32, 32)\n",
        "        (color channel first)\n",
        "        in the comments, we omit the batch_size in the shape\n",
        "        \"\"\"\n",
        "        # shape : 3x32x32 -> 128x32x32\n",
        "        x = F.relu(self.conv1(x))\n",
        "        # shape : 128x32x32 -> 128x32x32\n",
        "        x = F.relu(self.conv2(x))\n",
        "\n",
        "        # Check the output size\n",
        "        output_size = np.prod(x.size()[1:])\n",
        "        assert output_size == self.flattened_size,\\\n",
        "                \"self.flattened_size is invalid {} != {}\".format(output_size, self.flattened_size)\n",
        "\n",
        "        # Flatten and output\n",
        "        x = x.view(-1, self.flattened_size)\n",
        "        x = F.relu(self.fc1(x))\n",
        "        x = self.fc2(x)\n",
        "        return x"
      ],
      "execution_count": 0,
      "outputs": []
    },
    {
      "metadata": {
        "id": "UeuQGc2yMZqY",
        "colab_type": "code",
        "colab": {}
      },
      "cell_type": "code",
      "source": [
        "class ConvDepth4(nn.Module):\n",
        "    def __init__(self):\n",
        "        super(ConvDepth4, self).__init__()\n",
        "        \n",
        "        self.conv1 = nn.Conv2d(3, 128, kernel_size=3, stride=1, padding=1)\n",
        "        self.conv2 = nn.Conv2d(128, 128, kernel_size=3, stride=1, padding=1)\n",
        "        self.conv3 = nn.Conv2d(128, 128, kernel_size=3, stride=1, padding=1)\n",
        "        self.conv4 = nn.Conv2d(128, 128, kernel_size=3, stride=1, padding=1)\n",
        "        \n",
        "        # Size of the output of the last convolution:\n",
        "        self.flattened_size = 128 * 32 * 32\n",
        "        \n",
        "        self.fc1 = nn.Linear(self.flattened_size, 64)\n",
        "        self.fc2 = nn.Linear(64, 10)\n",
        "\n",
        "    def forward(self, x):\n",
        "        \"\"\"\n",
        "        Forward pass,\n",
        "        x shape is (batch_size, 3, 32, 32)\n",
        "        (color channel first)\n",
        "        in the comments, we omit the batch_size in the shape\n",
        "        \"\"\"\n",
        "        # shape : 3x32x32 -> 128x32x32\n",
        "        x = F.relu(self.conv1(x))\n",
        "        # shape : 128x32x32 -> 128x32x32\n",
        "        x = F.relu(self.conv2(x))\n",
        "        # shape : 128x32x32 -> 128x32x32\n",
        "        x = F.relu(self.conv3(x))\n",
        "        # shape : 128x32x32 -> 128x32x32\n",
        "        x = F.relu(self.conv4(x))\n",
        "\n",
        "        # Check the output size\n",
        "        output_size = np.prod(x.size()[1:])\n",
        "        assert output_size == self.flattened_size,\\\n",
        "                \"self.flattened_size is invalid {} != {}\".format(output_size, self.flattened_size)\n",
        "\n",
        "        # Flatten and output\n",
        "        x = x.view(-1, self.flattened_size)\n",
        "        x = F.relu(self.fc1(x))\n",
        "        x = self.fc2(x)\n",
        "        return x"
      ],
      "execution_count": 0,
      "outputs": []
    },
    {
      "metadata": {
        "id": "-j0B-Z7xMmB7",
        "colab_type": "code",
        "colab": {}
      },
      "cell_type": "code",
      "source": [
        "class ConvDepth6(nn.Module):\n",
        "    def __init__(self):\n",
        "        super(ConvDepth6, self).__init__()\n",
        "        \n",
        "        self.conv1 = nn.Conv2d(3, 128, kernel_size=3, stride=1, padding=1)\n",
        "        self.conv2 = nn.Conv2d(128, 128, kernel_size=3, stride=1, padding=1)\n",
        "        self.conv3 = nn.Conv2d(128, 128, kernel_size=3, stride=1, padding=1)\n",
        "        self.conv4 = nn.Conv2d(128, 128, kernel_size=3, stride=1, padding=1)\n",
        "        self.conv5 = nn.Conv2d(128, 128, kernel_size=3, stride=1, padding=1)\n",
        "        self.conv6 = nn.Conv2d(128, 128, kernel_size=3, stride=1, padding=1)\n",
        "        \n",
        "        # Size of the output of the last convolution:\n",
        "        self.flattened_size = 128 * 32 * 32\n",
        "        \n",
        "        self.fc1 = nn.Linear(self.flattened_size, 64)\n",
        "        self.fc2 = nn.Linear(64, 10)\n",
        "\n",
        "    def forward(self, x):\n",
        "        \"\"\"\n",
        "        Forward pass,\n",
        "        x shape is (batch_size, 3, 32, 32)\n",
        "        (color channel first)\n",
        "        in the comments, we omit the batch_size in the shape\n",
        "        \"\"\"\n",
        "        # shape : 3x32x32 -> 128x32x32\n",
        "        x = F.relu(self.conv1(x))\n",
        "        # shape : 128x32x32 -> 128x32x32\n",
        "        x = F.relu(self.conv2(x))\n",
        "        # shape : 128x32x32 -> 128x32x32\n",
        "        x = F.relu(self.conv3(x))\n",
        "        # shape : 128x32x32 -> 128x32x32\n",
        "        x = F.relu(self.conv4(x))\n",
        "        # shape : 128x32x32 -> 128x32x32\n",
        "        x = F.relu(self.conv5(x))\n",
        "        # shape : 128x32x32 -> 128x32x32\n",
        "        x = F.relu(self.conv6(x))\n",
        "\n",
        "        # Check the output size\n",
        "        output_size = np.prod(x.size()[1:])\n",
        "        assert output_size == self.flattened_size,\\\n",
        "                \"self.flattened_size is invalid {} != {}\".format(output_size, self.flattened_size)\n",
        "\n",
        "        # Flatten and output\n",
        "        x = x.view(-1, self.flattened_size)\n",
        "        x = F.relu(self.fc1(x))\n",
        "        x = self.fc2(x)\n",
        "        return x"
      ],
      "execution_count": 0,
      "outputs": []
    },
    {
      "metadata": {
        "id": "hFKZk0yqfzA_",
        "colab_type": "text"
      },
      "cell_type": "markdown",
      "source": [
        "### d) Feature compression"
      ]
    },
    {
      "metadata": {
        "id": "hmA7gG2CkTz1",
        "colab_type": "code",
        "colab": {}
      },
      "cell_type": "code",
      "source": [
        "class NoCompression(nn.Module):\n",
        "    def __init__(self):\n",
        "        super(NoCompression, self).__init__()\n",
        "        \n",
        "        self.conv1 = nn.Conv2d(3, 128, kernel_size=3, stride=1, padding=1)\n",
        "        self.conv2 = nn.Conv2d(128, 128, kernel_size=3, stride=1, padding=1)\n",
        "        self.conv3 = nn.Conv2d(128, 128, kernel_size=3, stride=1, padding=1)\n",
        "        \n",
        "        # Size of the output of the last convolution:\n",
        "        self.flattened_size = 128 * 32 * 32\n",
        "        \n",
        "        self.fc1 = nn.Linear(self.flattened_size, 64)\n",
        "        self.fc2 = nn.Linear(64, 10)\n",
        "\n",
        "    def forward(self, x):\n",
        "        \"\"\"\n",
        "        Forward pass,\n",
        "        x shape is (batch_size, 3, 32, 32)\n",
        "        (color channel first)\n",
        "        in the comments, we omit the batch_size in the shape\n",
        "        \"\"\"\n",
        "        # shape : 3x32x32 -> 128x32x32\n",
        "        x = F.relu(self.conv1(x))\n",
        "        # shape : 128x32x32 -> 128x32x32\n",
        "        x = F.relu(self.conv2(x))\n",
        "        # shape : 128x32x32 -> 128x32x32\n",
        "        x = F.relu(self.conv3(x))\n",
        "\n",
        "        # Check the output size\n",
        "        output_size = np.prod(x.size()[1:])\n",
        "        assert output_size == self.flattened_size,\\\n",
        "                \"self.flattened_size is invalid {} != {}\".format(output_size, self.flattened_size)\n",
        "\n",
        "        # Flatten and output\n",
        "        x = x.view(-1, self.flattened_size)\n",
        "        x = F.relu(self.fc1(x))\n",
        "        x = self.fc2(x)\n",
        "        return x"
      ],
      "execution_count": 0,
      "outputs": []
    },
    {
      "metadata": {
        "id": "OT5eosz8f-pR",
        "colab_type": "code",
        "colab": {}
      },
      "cell_type": "code",
      "source": [
        "class Compression(nn.Module):\n",
        "    def __init__(self):\n",
        "        super(Compression, self).__init__()\n",
        "        \n",
        "        self.conv1 = nn.Conv2d(3, 128, kernel_size=3, stride=1, padding=1)\n",
        "        self.conv2 = nn.Conv2d(128, 128, kernel_size=3, stride=1, padding=1)\n",
        "        self.conv3 = nn.Conv2d(128, 128, kernel_size=3, stride=1, padding=1)\n",
        "        \n",
        "        # Size of the output of the last convolution:\n",
        "        self.flattened_size = 128 * 4 * 4\n",
        "        \n",
        "        self.fc1 = nn.Linear(self.flattened_size, 64)\n",
        "        self.fc2 = nn.Linear(64, 10)\n",
        "\n",
        "    def forward(self, x):\n",
        "        \"\"\"\n",
        "        Forward pass,\n",
        "        x shape is (batch_size, 3, 32, 32)\n",
        "        (color channel first)\n",
        "        in the comments, we omit the batch_size in the shape\n",
        "        \"\"\"\n",
        "        # shape : 3x32x32 -> 128x16x16\n",
        "        x = F.relu(F.max_pool2d(self.conv1(x), 2))\n",
        "        # shape : 128x16x16 -> 128x8x8\n",
        "        x = F.relu(F.max_pool2d(self.conv2(x), 2))\n",
        "        # shape : 128x8x8 -> 128x4x4\n",
        "        x = F.relu(F.max_pool2d(self.conv3(x), 2))\n",
        "\n",
        "        # Check the output size\n",
        "        output_size = np.prod(x.size()[1:])\n",
        "        assert output_size == self.flattened_size,\\\n",
        "                \"self.flattened_size is invalid {} != {}\".format(output_size, self.flattened_size)\n",
        "\n",
        "        # Flatten and output\n",
        "        x = x.view(-1, self.flattened_size)\n",
        "        x = F.relu(self.fc1(x))\n",
        "        x = self.fc2(x)\n",
        "        return x"
      ],
      "execution_count": 0,
      "outputs": []
    },
    {
      "metadata": {
        "id": "euY3asyj7kQT",
        "colab_type": "text"
      },
      "cell_type": "markdown",
      "source": [
        "### e) Vanishing Gradient and activation function"
      ]
    },
    {
      "metadata": {
        "id": "yIkIYAlH7i_J",
        "colab_type": "code",
        "colab": {}
      },
      "cell_type": "code",
      "source": [
        "class Sigmoid(nn.Module):\n",
        "    def __init__(self):\n",
        "        super(Sigmoid, self).__init__()\n",
        "        \n",
        "        self.conv1 = nn.Conv2d(3, 128, kernel_size=3, stride=1, padding=1)\n",
        "        self.conv2 = nn.Conv2d(128, 128, kernel_size=3, stride=1, padding=1)\n",
        "        self.conv3 = nn.Conv2d(128, 128, kernel_size=3, stride=1, padding=1)\n",
        "        \n",
        "        # Size of the output of the last convolution:\n",
        "        self.flattened_size = 128 * 4 * 4\n",
        "        \n",
        "        self.fc1 = nn.Linear(self.flattened_size, 64)\n",
        "        self.fc2 = nn.Linear(64, 10)\n",
        "\n",
        "    def forward(self, x):\n",
        "        \"\"\"\n",
        "        Forward pass,\n",
        "        x shape is (batch_size, 3, 32, 32)\n",
        "        (color channel first)\n",
        "        in the comments, we omit the batch_size in the shape\n",
        "        \"\"\"\n",
        "        # shape : 3x32x32 -> 128x16x16\n",
        "        x = F.sigmoid(F.max_pool2d(self.conv1(x), 2))\n",
        "        # shape : 128x16x16 -> 128x8x8\n",
        "        x = F.sigmoid(F.max_pool2d(self.conv2(x), 2))\n",
        "        # shape : 128x8x8 -> 128x4x4\n",
        "        x = F.sigmoid(F.max_pool2d(self.conv3(x), 2))\n",
        "\n",
        "        # Check the output size\n",
        "        output_size = np.prod(x.size()[1:])\n",
        "        assert output_size == self.flattened_size,\\\n",
        "                \"self.flattened_size is invalid {} != {}\".format(output_size, self.flattened_size)\n",
        "\n",
        "        # Flatten and output\n",
        "        x = x.view(-1, self.flattened_size)\n",
        "        x = F.relu(self.fc1(x))\n",
        "        x = self.fc2(x)\n",
        "        return x"
      ],
      "execution_count": 0,
      "outputs": []
    },
    {
      "metadata": {
        "id": "0qf7UrC98V-a",
        "colab_type": "code",
        "colab": {}
      },
      "cell_type": "code",
      "source": [
        "class SoftShrink(nn.Module):\n",
        "    def __init__(self):\n",
        "        super(SoftShrink, self).__init__()\n",
        "        \n",
        "        self.conv1 = nn.Conv2d(3, 128, kernel_size=3, stride=1, padding=1)\n",
        "        self.conv2 = nn.Conv2d(128, 128, kernel_size=3, stride=1, padding=1)\n",
        "        self.conv3 = nn.Conv2d(128, 128, kernel_size=3, stride=1, padding=1)\n",
        "        \n",
        "        # Size of the output of the last convolution:\n",
        "        self.flattened_size = 128 * 4 * 4\n",
        "        \n",
        "        self.fc1 = nn.Linear(self.flattened_size, 64)\n",
        "        self.fc2 = nn.Linear(64, 10)\n",
        "\n",
        "    def forward(self, x):\n",
        "        \"\"\"\n",
        "        Forward pass,\n",
        "        x shape is (batch_size, 3, 32, 32)\n",
        "        (color channel first)\n",
        "        in the comments, we omit the batch_size in the shape\n",
        "        \"\"\"\n",
        "        # shape : 3x32x32 -> 128x16x16\n",
        "        x = F.softshrink(F.max_pool2d(self.conv1(x), 2))\n",
        "        # shape : 128x16x16 -> 128x8x8\n",
        "        x = F.softshrink(F.max_pool2d(self.conv2(x), 2))\n",
        "        # shape : 128x8x8 -> 128x4x4\n",
        "        x = F.softshrink(F.max_pool2d(self.conv3(x), 2))\n",
        "\n",
        "        # Check the output size\n",
        "        output_size = np.prod(x.size()[1:])\n",
        "        assert output_size == self.flattened_size,\\\n",
        "                \"self.flattened_size is invalid {} != {}\".format(output_size, self.flattened_size)\n",
        "\n",
        "        # Flatten and output\n",
        "        x = x.view(-1, self.flattened_size)\n",
        "        x = F.relu(self.fc1(x))\n",
        "        x = self.fc2(x)\n",
        "        return x"
      ],
      "execution_count": 0,
      "outputs": []
    },
    {
      "metadata": {
        "id": "EIOOeMN68-So",
        "colab_type": "code",
        "colab": {}
      },
      "cell_type": "code",
      "source": [
        "class Elu(nn.Module):\n",
        "    def __init__(self):\n",
        "        super(Elu, self).__init__()\n",
        "        \n",
        "        self.conv1 = nn.Conv2d(3, 128, kernel_size=3, stride=1, padding=1)\n",
        "        self.conv2 = nn.Conv2d(128, 128, kernel_size=3, stride=1, padding=1)\n",
        "        self.conv3 = nn.Conv2d(128, 128, kernel_size=3, stride=1, padding=1)\n",
        "        \n",
        "        # Size of the output of the last convolution:\n",
        "        self.flattened_size = 128 * 4 * 4\n",
        "        \n",
        "        self.fc1 = nn.Linear(self.flattened_size, 64)\n",
        "        self.fc2 = nn.Linear(64, 10)\n",
        "\n",
        "    def forward(self, x):\n",
        "        \"\"\"\n",
        "        Forward pass,\n",
        "        x shape is (batch_size, 3, 32, 32)\n",
        "        (color channel first)\n",
        "        in the comments, we omit the batch_size in the shape\n",
        "        \"\"\"\n",
        "        # shape : 3x32x32 -> 128x16x16\n",
        "        x = F.elu(F.max_pool2d(self.conv1(x), 2))\n",
        "        # shape : 128x16x16 -> 128x8x8\n",
        "        x = F.elu(F.max_pool2d(self.conv2(x), 2))\n",
        "        # shape : 128x8x8 -> 128x4x4\n",
        "        x = F.elu(F.max_pool2d(self.conv3(x), 2))\n",
        "\n",
        "        # Check the output size\n",
        "        output_size = np.prod(x.size()[1:])\n",
        "        assert output_size == self.flattened_size,\\\n",
        "                \"self.flattened_size is invalid {} != {}\".format(output_size, self.flattened_size)\n",
        "\n",
        "        # Flatten and output\n",
        "        x = x.view(-1, self.flattened_size)\n",
        "        x = F.relu(self.fc1(x))\n",
        "        x = self.fc2(x)\n",
        "        return x"
      ],
      "execution_count": 0,
      "outputs": []
    },
    {
      "metadata": {
        "id": "UBUxnPD8EDm7",
        "colab_type": "text"
      },
      "cell_type": "markdown",
      "source": [
        "### f) Regularization"
      ]
    },
    {
      "metadata": {
        "id": "PaagRSvfA48l",
        "colab_type": "code",
        "colab": {}
      },
      "cell_type": "code",
      "source": [
        "class Dropout(nn.Module):\n",
        "    def __init__(self):\n",
        "        super(Dropout, self).__init__()\n",
        "        \n",
        "        self.conv1 = nn.Conv2d(3, 128, kernel_size=3, stride=1, padding=1)\n",
        "        self.conv2 = nn.Conv2d(128, 128, kernel_size=3, stride=1, padding=1)\n",
        "        self.conv3 = nn.Conv2d(128, 128, kernel_size=3, stride=1, padding=1)\n",
        "        \n",
        "        self.dropout1 = nn.Dropout2d(0.8)\n",
        "        self.dropout2 = nn.Dropout2d(0.8)\n",
        "        self.dropout3 = nn.Dropout2d(0.8)\n",
        "        \n",
        "        # Size of the output of the last convolution:\n",
        "        self.flattened_size = 128 * 4 * 4\n",
        "        \n",
        "        self.fc1 = nn.Linear(self.flattened_size, 64)\n",
        "        self.fc2 = nn.Linear(64, 10)\n",
        "\n",
        "    def forward(self, x):\n",
        "        \"\"\"\n",
        "        Forward pass,\n",
        "        x shape is (batch_size, 3, 32, 32)\n",
        "        (color channel first)\n",
        "        in the comments, we omit the batch_size in the shape\n",
        "        \"\"\"\n",
        "        # shape : 3x32x32 -> 128x16x16\n",
        "        x = F.max_pool2d(self.dropout1(F.elu(self.conv1(x))), 2)\n",
        "        # shape : 128x16x16 -> 128x8x8\n",
        "        x = F.max_pool2d(self.dropout2(F.elu(self.conv2(x))), 2)\n",
        "        # shape : 128x8x8 -> 128x4x4\n",
        "        x = F.max_pool2d(self.dropout3(F.elu(self.conv3(x))), 2)\n",
        "\n",
        "        # Check the output size\n",
        "        output_size = np.prod(x.size()[1:])\n",
        "        assert output_size == self.flattened_size,\\\n",
        "                \"self.flattened_size is invalid {} != {}\".format(output_size, self.flattened_size)\n",
        "\n",
        "        # Flatten and output\n",
        "        x = x.view(-1, self.flattened_size)\n",
        "        x = F.relu(self.fc1(x))\n",
        "        x = self.fc2(x)\n",
        "        return x"
      ],
      "execution_count": 0,
      "outputs": []
    },
    {
      "metadata": {
        "id": "jyU5g6dCgFWW",
        "colab_type": "text"
      },
      "cell_type": "markdown",
      "source": [
        "### g) More ideas"
      ]
    },
    {
      "metadata": {
        "id": "zRDCFGwJgILp",
        "colab_type": "code",
        "colab": {}
      },
      "cell_type": "code",
      "source": [
        "class Extension(nn.Module):\n",
        "    def __init__(self):\n",
        "        super(Extension, self).__init__()\n",
        "        \n",
        "        self.conv1 = nn.Conv2d(3, 128, kernel_size=3, stride=1, padding=1)\n",
        "        self.conv2 = nn.Conv2d(128, 256, kernel_size=3, stride=1, padding=1)\n",
        "        self.conv3 = nn.Conv2d(256, 512, kernel_size=3, stride=1, padding=1)\n",
        "        \n",
        "        # Size of the output of the last convolution:\n",
        "        self.flattened_size = 512 * 4 * 4\n",
        "        \n",
        "        self.fc1 = nn.Linear(self.flattened_size, 64)\n",
        "        self.fc2 = nn.Linear(64, 10)\n",
        "\n",
        "    def forward(self, x):\n",
        "        \"\"\"\n",
        "        Forward pass,\n",
        "        x shape is (batch_size, 3, 32, 32)\n",
        "        (color channel first)\n",
        "        in the comments, we omit the batch_size in the shape\n",
        "        \"\"\"\n",
        "        # shape : 3x32x32 -> 128x16x16\n",
        "        x = F.elu(F.max_pool2d(self.conv1(x), 2))\n",
        "        # shape : 128x16x16 -> 128x8x8\n",
        "        x = F.elu(F.max_pool2d(self.conv2(x), 2))\n",
        "        # shape : 128x8x8 -> 128x4x4\n",
        "        x = F.elu(F.max_pool2d(self.conv3(x), 2))\n",
        "\n",
        "        # Check the output size\n",
        "        output_size = np.prod(x.size()[1:])\n",
        "        assert output_size == self.flattened_size,\\\n",
        "                \"self.flattened_size is invalid {} != {}\".format(output_size, self.flattened_size)\n",
        "\n",
        "        # Flatten and output\n",
        "        x = x.view(-1, self.flattened_size)\n",
        "        x = F.relu(self.fc1(x))\n",
        "        x = self.fc2(x)\n",
        "        return x"
      ],
      "execution_count": 0,
      "outputs": []
    },
    {
      "metadata": {
        "id": "53JfLlAliSON",
        "colab_type": "text"
      },
      "cell_type": "markdown",
      "source": [
        "### ?) - CConvNet"
      ]
    },
    {
      "metadata": {
        "id": "zndFYIBWiZy2",
        "colab_type": "code",
        "colab": {}
      },
      "cell_type": "code",
      "source": [
        "# inspired from the Cuda Conv Net:\n",
        "# Use with: lr=0.001, batch_size=128, epochs=85\n",
        "\n",
        "\n",
        "class CConvNet(nn.Module):\n",
        "    def __init__(self):\n",
        "        super(CConvNet, self).__init__()\n",
        "        \n",
        "        self.conv1 = nn.Conv2d(3, 32, kernel_size=5, stride=1, padding=1)# Then Relu, then MaxPool\n",
        "        self.conv2 = nn.Conv2d(32, 32, kernel_size=5, stride=1, padding=1)# Then Relu, then MaxPool\n",
        "        self.conv3 = nn.Conv2d(32, 64, kernel_size=5, stride=1, padding=1)# Then Relu, then MaxPool\n",
        "        \n",
        "        # Size of the output of the last convolution:\n",
        "        self.flattened_size = 16 * 4 * 4\n",
        "        \n",
        "        self.fc1 = nn.Linear(self.flattened_size, 64)\n",
        "        self.fc2 = nn.Linear(64, 10)\n",
        "\n",
        "    def forward(self, x):\n",
        "        \"\"\"\n",
        "        Forward pass,\n",
        "        x shape is (batch_size, 3, 32, 32)\n",
        "        (color channel first)\n",
        "        in the comments, we omit the batch_size in the shape\n",
        "        \"\"\"\n",
        "        # shape : 3x32x32 -> 32x16x16\n",
        "        x = F.max_pool2d(F.relu(self.conv1(x)),2)\n",
        "        #print(x.size())\n",
        "        # shape : 32x16x16 -> 32x8x8\n",
        "        x = F.max_pool2d(F.relu(self.conv2(x)),2)\n",
        "        #print(x.size())\n",
        "        # shape : 32x8x8 -> 32x4x4\n",
        "        x = F.max_pool2d(F.relu(self.conv3(x)),2)\n",
        "        #print(x.size())\n",
        "        # Check the output size\n",
        "        output_size = np.prod(x.size()[1:])\n",
        "        assert output_size == self.flattened_size,\\\n",
        "                \"self.flattened_size is invalid {} != {}\".format(output_size, self.flattened_size)\n",
        "\n",
        "        # Flatten and output\n",
        "        x = x.view(-1, self.flattened_size)\n",
        "        x = F.relu(self.fc1(x))\n",
        "        x = self.fc2(x)\n",
        "        return x"
      ],
      "execution_count": 0,
      "outputs": []
    },
    {
      "metadata": {
        "id": "7YS4FobEy7Nd",
        "colab_type": "text"
      },
      "cell_type": "markdown",
      "source": [
        "## 2) Train the network"
      ]
    },
    {
      "metadata": {
        "id": "U0mRHJtFy5i7",
        "colab_type": "code",
        "colab": {}
      },
      "cell_type": "code",
      "source": [
        "net = ConvNet()\n",
        "#train_history, val_history = train(net, batch_size=32, n_epochs=5,\n",
        "#                                   learning_rate=0.001, loss='cross-entropy',\n",
        "#                                   opti='Adam', weight_decay=0.2, verbose=False)"
      ],
      "execution_count": 0,
      "outputs": []
    },
    {
      "metadata": {
        "id": "fpLQxxKyz8fB",
        "colab_type": "text"
      },
      "cell_type": "markdown",
      "source": [
        "## 3) Evaluate performance"
      ]
    },
    {
      "metadata": {
        "id": "8Tux1jqVzlIY",
        "colab_type": "text"
      },
      "cell_type": "markdown",
      "source": [
        "### a) Plot losses"
      ]
    },
    {
      "metadata": {
        "id": "0zvNwSZXzoZ5",
        "colab_type": "code",
        "outputId": "df2563dc-0eb0-4bd7-fad8-9147f90e2b8c",
        "colab": {
          "base_uri": "https://localhost:8080/",
          "height": 173
        }
      },
      "cell_type": "code",
      "source": [
        "plot_losses(train_history, val_history)"
      ],
      "execution_count": 25,
      "outputs": [
        {
          "output_type": "error",
          "ename": "NameError",
          "evalue": "ignored",
          "traceback": [
            "\u001b[0;31m---------------------------------------------------------------------------\u001b[0m",
            "\u001b[0;31mNameError\u001b[0m                                 Traceback (most recent call last)",
            "\u001b[0;32m<ipython-input-25-11a705c4e918>\u001b[0m in \u001b[0;36m<module>\u001b[0;34m()\u001b[0m\n\u001b[0;32m----> 1\u001b[0;31m \u001b[0mplot_losses\u001b[0m\u001b[0;34m(\u001b[0m\u001b[0mtrain_history\u001b[0m\u001b[0;34m,\u001b[0m \u001b[0mval_history\u001b[0m\u001b[0;34m)\u001b[0m\u001b[0;34m\u001b[0m\u001b[0;34m\u001b[0m\u001b[0m\n\u001b[0m",
            "\u001b[0;31mNameError\u001b[0m: name 'train_history' is not defined"
          ]
        }
      ]
    },
    {
      "metadata": {
        "id": "iAlTask3zpmd",
        "colab_type": "text"
      },
      "cell_type": "markdown",
      "source": [
        "### b) Accuracy "
      ]
    },
    {
      "metadata": {
        "id": "SrHKtdk-zuVg",
        "colab_type": "code",
        "colab": {}
      },
      "cell_type": "code",
      "source": [
        "compute_accuracy(net)"
      ],
      "execution_count": 0,
      "outputs": []
    },
    {
      "metadata": {
        "id": "_VD1dmKIz4CP",
        "colab_type": "text"
      },
      "cell_type": "markdown",
      "source": [
        "### c) Confusion Matrix"
      ]
    },
    {
      "metadata": {
        "id": "hkFxexTazyUK",
        "colab_type": "code",
        "colab": {}
      },
      "cell_type": "code",
      "source": [
        "confusion_matrix = accuracy_per_class(net)\n",
        "plot_confusion_matrix(confusion_matrix, classes,\n",
        "                      title='Confusion matrix, without normalization')"
      ],
      "execution_count": 0,
      "outputs": []
    },
    {
      "metadata": {
        "id": "bBnIOI-L4CwR",
        "colab_type": "text"
      },
      "cell_type": "markdown",
      "source": [
        "# IV - Impact of hyperparameters\n",
        "\n",
        "In this part, we will evaluate, on a simple model, the impact of learning rate, batch size, the choice of the optimizer and the loss function. "
      ]
    },
    {
      "metadata": {
        "id": "cMkw6kLR5LhF",
        "colab_type": "code",
        "colab": {}
      },
      "cell_type": "code",
      "source": [
        "def gridsearch(params):\n",
        "  \n",
        "  res = []\n",
        "  for opti_value in params['opti']:\n",
        "    for loss_value in params['loss']:\n",
        "      for lr_value in params['lr']:\n",
        "        for batch_size_value in params['batch_size']:\n",
        "          net = ConvNet()\n",
        "          train_history, val_history = train(net, batch_size=batch_size_value,\n",
        "                                             n_epochs=5, learning_rate=lr_value,\n",
        "                                             loss=loss_value, opti=opti_value,\n",
        "                                             weight_decay=0.0, verbose=False)\n",
        "          accuracy = test_set_accuracy(net)\n",
        "          \n",
        "          res.append([opti_value, loss_value, lr_value,\n",
        "                      batch_size_value, accuracy])\n",
        "          \n",
        "  return res"
      ],
      "execution_count": 0,
      "outputs": []
    },
    {
      "metadata": {
        "id": "DdVEwHKw9TYM",
        "colab_type": "code",
        "colab": {}
      },
      "cell_type": "code",
      "source": [
        "params = {'opti':['SGD'], #Adam and RMS gives terrible results, don't know why\n",
        "          'loss':['cross-entropy'], #Others are more adapted to regression than classification\n",
        "          'lr':[1.0, 0.5, 0.1, 0.001, 0.0001],\n",
        "          'batch_size':[16, 32, 64]}\n",
        "\n",
        "results = gridsearch(params)\n",
        "print(results)"
      ],
      "execution_count": 0,
      "outputs": []
    },
    {
      "metadata": {
        "id": "kSL1nzVKQZMG",
        "colab_type": "code",
        "colab": {}
      },
      "cell_type": "code",
      "source": [
        "plt.figure()\n",
        "#plt.subplot(121)\n",
        "plt.title('Evolution of accuracy with batch size')\n",
        "\n",
        "res = np.array(results)\n",
        "\n",
        "for lr in [1.0, 0.5, 0.1, 0.001, 0.0001]:\n",
        "  for loss in ['cross-entropy', 'NLL']:\n",
        "    res1 = res[res[:,1]==loss, :]\n",
        "    res2 = res1[res1[:,2]==str(lr), :]  \n",
        "    acc, bs = res2[:,4].astype(float), res2[:,3]\n",
        "\n",
        "    label='opti={}; lr={}; loss={}'.format('SGD', lr, loss)\n",
        "    plt.plot(bs, acc, label=label)  \n",
        "\n",
        "plt.legend(bbox_to_anchor=(1.05, 1), loc=2, borderaxespad=0.)\n",
        "\n"
      ],
      "execution_count": 0,
      "outputs": []
    },
    {
      "metadata": {
        "id": "tp3Osxwhd7af",
        "colab_type": "code",
        "colab": {}
      },
      "cell_type": "code",
      "source": [
        "plt.figure()\n",
        "#plt.subplot(122)\n",
        "plt.title('Evolution of accuracy with learning rate')\n",
        "\n",
        "res = np.array(results)\n",
        "\n",
        "for batch_size in [16, 32, 64]:\n",
        "  for loss in ['cross-entropy', 'NLL']:\n",
        "    res1 = res[res[:,1]==loss, :]\n",
        "    res2 = res1[res1[:,3]==str(batch_size), :]  \n",
        "    acc, lr = res2[:,4].astype(float), res2[:,2]\n",
        "\n",
        "    label='opti={}; batch_size={}; loss={}'.format('SGD', batch_size, loss)\n",
        "    plt.plot(lr, acc, label=label)  \n",
        "\n",
        "plt.legend(bbox_to_anchor=(1.05, 1), loc=2, borderaxespad=0.)\n",
        "\n",
        "#plt.tight_layout()\n",
        "plt.show()"
      ],
      "execution_count": 0,
      "outputs": []
    },
    {
      "metadata": {
        "id": "Z93B6Lb6euST",
        "colab_type": "text"
      },
      "cell_type": "markdown",
      "source": [
        "# V - Testing architecture impact"
      ]
    },
    {
      "metadata": {
        "id": "z_FUfHrAhEuw",
        "colab_type": "text"
      },
      "cell_type": "markdown",
      "source": [
        "## 1) Depth"
      ]
    },
    {
      "metadata": {
        "id": "1kf1pA4qez2e",
        "colab_type": "code",
        "colab": {}
      },
      "cell_type": "code",
      "source": [
        "net1 = ConvDepth2()\n",
        "net2 = ConvDepth4()\n",
        "net3 = ConvDepth6()\n",
        "\n",
        "\n",
        "for net in [net1, net2, net3]:\n",
        "\n",
        "  train_history, val_history = train(net, batch_size=32, n_epochs=7,\n",
        "                                     learning_rate=0.01, loss='cross-entropy',\n",
        "                                     opti='SGD', weight_decay=0.0, verbose=False)\n",
        "  plot_losses(train_history, val_history)\n",
        "  test_set_accuracy(net)"
      ],
      "execution_count": 0,
      "outputs": []
    },
    {
      "metadata": {
        "id": "kX5eYIFQhMfY",
        "colab_type": "text"
      },
      "cell_type": "markdown",
      "source": [
        "## 2) Feature compression"
      ]
    },
    {
      "metadata": {
        "id": "Wwvy3BGfkDoe",
        "colab_type": "code",
        "colab": {}
      },
      "cell_type": "code",
      "source": [
        "net_with_compression = Compression()\n",
        "net_wo_compression = NoCompression()\n",
        "\n",
        "for net in [net_with_compression, net_wo_compression]:\n",
        "  train_history, val_history = train(net, batch_size=32, n_epochs=15,\n",
        "                                     learning_rate=0.01, loss='cross-entropy',\n",
        "                                     opti='SGD', weight_decay=0.0, verbose=False)\n",
        "  plot_losses(train_history, val_history)\n",
        "  test_set_accuracy(net)\n",
        "  "
      ],
      "execution_count": 0,
      "outputs": []
    },
    {
      "metadata": {
        "id": "LP0-sl9Q9GTr",
        "colab_type": "text"
      },
      "cell_type": "markdown",
      "source": [
        "## 3) Activation function"
      ]
    },
    {
      "metadata": {
        "id": "UKBbqTUE9KGl",
        "colab_type": "code",
        "colab": {}
      },
      "cell_type": "code",
      "source": [
        "net1 = Compression()\n",
        "net2 = Sigmoid()\n",
        "net3 = SoftShrink()\n",
        "net4 = Elu()\n",
        "\n",
        "\n",
        "for net in [net1, net2, net3, net4]:\n",
        "\n",
        "  train_history, val_history = train(net, batch_size=32, n_epochs=7,\n",
        "                                     learning_rate=0.01, loss='cross-entropy',\n",
        "                                     opti='SGD', weight_decay=0.0, verbose=False)\n",
        "  plot_losses(train_history, val_history)\n",
        "  test_set_accuracy(net)"
      ],
      "execution_count": 0,
      "outputs": []
    },
    {
      "metadata": {
        "id": "AfuP2lRzCgFp",
        "colab_type": "text"
      },
      "cell_type": "markdown",
      "source": [
        "## 4) Regularization"
      ]
    },
    {
      "metadata": {
        "id": "AHsmTyLPClma",
        "colab_type": "code",
        "colab": {}
      },
      "cell_type": "code",
      "source": [
        "# First technique: Adding regularization factor into the loss function\n",
        "net = Elu()\n",
        "\n",
        "train_history, val_history = train(net, batch_size=32, n_epochs=60,\n",
        "                                   learning_rate=0.01, loss='cross-entropy',\n",
        "                                   opti='SGD', weight_decay=0.03, verbose=False)\n",
        "plot_losses(train_history, val_history)\n",
        "test_set_accuracy(net)"
      ],
      "execution_count": 0,
      "outputs": []
    },
    {
      "metadata": {
        "id": "Wj7HNKevO8gN",
        "colab_type": "code",
        "colab": {}
      },
      "cell_type": "code",
      "source": [
        "# Second technique: Use dropout layer to \"avoid\" training some neurons during learning \n",
        "net = Dropout()\n",
        "\n",
        "train_history, val_history = train(net, batch_size=16, n_epochs=60,\n",
        "                                   learning_rate=0.01, loss='cross-entropy',\n",
        "                                   opti='SGD', weight_decay=0.0, verbose=False)\n",
        "plot_losses(train_history, val_history)\n",
        "test_set_accuracy(net)"
      ],
      "execution_count": 0,
      "outputs": []
    },
    {
      "metadata": {
        "id": "TE5LZsTcl7zd",
        "colab_type": "text"
      },
      "cell_type": "markdown",
      "source": [
        "## 5) Literature models"
      ]
    },
    {
      "metadata": {
        "id": "KCXznw3744gU",
        "colab_type": "code",
        "colab": {}
      },
      "cell_type": "code",
      "source": [
        "net = SimpleNet()\n",
        "\n",
        "train_history, val_history = train(net, batch_size=64, n_epochs=20,\n",
        "                                   learning_rate=0.01, loss='cross-entropy',\n",
        "                                   opti='SGD', weight_decay=0.0, verbose=False)\n",
        "plot_losses(train_history, val_history)\n",
        "test_set_accuracy(net)\n"
      ],
      "execution_count": 0,
      "outputs": []
    },
    {
      "metadata": {
        "id": "y6vn2NTol_jF",
        "colab_type": "code",
        "colab": {}
      },
      "cell_type": "code",
      "source": [
        "net = CConvNet()\n",
        "\n",
        "train_history, val_history = train(net, batch_size=64, n_epochs=100,\n",
        "                                   learning_rate=0.005, loss='cross-entropy',\n",
        "                                   opti='SGD', weight_decay=0.0, verbose=False)\n",
        "plot_losses(train_history, val_history)\n",
        "test_set_accuracy(net)\n"
      ],
      "execution_count": 0,
      "outputs": []
    },
    {
      "metadata": {
        "id": "J-IuqFhS8kBs",
        "colab_type": "code",
        "outputId": "1917954a-5812-44d4-8061-bf63299a01a3",
        "colab": {
          "base_uri": "https://localhost:8080/",
          "height": 1823
        }
      },
      "cell_type": "code",
      "source": [
        "# Best model\n",
        "\n",
        "net = Compression()\n",
        "\n",
        "train_history, val_history = train(net, batch_size=32, n_epochs=25,\n",
        "                                   learning_rate=0.01, loss='cross-entropy',\n",
        "                                   opti='SGD', weight_decay=0.0, verbose=False)\n",
        "plot_losses(train_history, val_history)\n",
        "test_set_accuracy(net)\n",
        "\n",
        "confusion_matrix = accuracy_per_class(net)\n",
        "plot_confusion_matrix(confusion_matrix, classes,\n",
        "                      title='Confusion matrix, without normalization')"
      ],
      "execution_count": 26,
      "outputs": [
        {
          "output_type": "stream",
          "text": [
            "===== HYPERPARAMETERS =====\n",
            "batch_size= 32\n",
            "n_epochs= 25\n",
            "learning_rate= 0.01\n",
            "loss= cross-entropy\n",
            "opti= SGD\n",
            "weight_decay= 0.0\n",
            "==============================\n",
            "Validation loss = 2.04\n",
            "Validation loss = 1.73\n",
            "Validation loss = 1.62\n",
            "Validation loss = 1.47\n",
            "Validation loss = 1.51\n",
            "Validation loss = 1.34\n",
            "Validation loss = 1.30\n",
            "Validation loss = 1.35\n",
            "Validation loss = 1.19\n",
            "Validation loss = 1.17\n",
            "Validation loss = 1.11\n",
            "Validation loss = 1.08\n",
            "Validation loss = 1.05\n",
            "Validation loss = 1.08\n",
            "Validation loss = 0.97\n",
            "Validation loss = 0.99\n",
            "Validation loss = 0.95\n",
            "Validation loss = 0.96\n",
            "Validation loss = 0.92\n",
            "Validation loss = 0.90\n",
            "Validation loss = 0.92\n",
            "Validation loss = 0.92\n",
            "Validation loss = 0.93\n",
            "Validation loss = 0.96\n",
            "Validation loss = 0.99\n",
            "Training Finished, took 251.29s\n"
          ],
          "name": "stdout"
        },
        {
          "output_type": "display_data",
          "data": {
            "image/png": "[encoded data removed]",
            "text/plain": [
              "<matplotlib.figure.Figure at 0x7f7da551d198>"
            ]
          },
          "metadata": {
            "tags": []
          }
        },
        {
          "output_type": "stream",
          "text": [
            "Accuracy of the network on the 5000 test images: 68.60 %\n",
            "Class      Accuracy (%)\n",
            "plane        73.16   \n",
            "car          85.74   \n",
            "bird         48.05   \n",
            "cat          50.70   \n",
            "deer         55.23   \n",
            "dog          63.11   \n",
            "frog         76.99   \n",
            "horse        82.02   \n",
            "ship         81.15   \n",
            "truck        70.37   \n"
          ],
          "name": "stdout"
        },
        {
          "output_type": "display_data",
          "data": {
            "image/png": "[encoded data removed]",
            "text/plain": [
              "<matplotlib.figure.Figure at 0x7f7da21beb00>"
            ]
          },
          "metadata": {
            "tags": []
          }
        }
      ]
    },
    {
      "metadata": {
        "id": "bNmnSFQLgmCo",
        "colab_type": "text"
      },
      "cell_type": "markdown",
      "source": [
        "# VI - Data augmentation"
      ]
    },
    {
      "metadata": {
        "id": "w4Le_5zxguqB",
        "colab_type": "code",
        "colab": {}
      },
      "cell_type": "code",
      "source": [
        "# Re-run this cell before training another model\n",
        "from torch.utils.data.sampler import SubsetRandomSampler\n",
        "\n",
        "rgb_mean = (0.4914, 0.4822, 0.4465)\n",
        "rgb_std = (0.2023, 0.1994, 0.2010)\n",
        "\n",
        "\n",
        "n_training_samples = 20000 # Max: 50 000 - n_val_samples\n",
        "n_val_samples = 5000\n",
        "n_test_samples = 5000\n",
        "\n",
        "train_sampler = SubsetRandomSampler(np.arange(n_training_samples, dtype=np.int64))\n",
        "val_sampler = SubsetRandomSampler(np.arange(n_training_samples, n_training_samples + n_val_samples, dtype=np.int64))\n",
        "test_sampler = SubsetRandomSampler(np.arange(n_test_samples, dtype=np.int64))\n",
        "\n",
        "num_workers = 2\n",
        "test_batch_size = 4\n",
        "\n",
        "transform_train = transforms.Compose([\n",
        "    transforms.RandomCrop(32, padding=4),\n",
        "    transforms.RandomHorizontalFlip(),\n",
        "    transforms.ToTensor(),\n",
        "    transforms.Normalize(rgb_mean, rgb_std),\n",
        "])\n",
        "\n",
        "train_set = torchvision.datasets.CIFAR10(root='./data', train=True,\n",
        "                                        download=True, transform=transform)\n",
        "\n",
        "train_loader = th.utils.data.DataLoader(train_set, batch_size=test_batch_size, sampler=train_sampler,\n",
        "                                          num_workers=num_workers)\n",
        "\n",
        "test_set = torchvision.datasets.CIFAR10(root='./data', train=False,\n",
        "                                       download=True, transform=transform)\n",
        "test_loader = th.utils.data.DataLoader(test_set, batch_size=test_batch_size, sampler=test_sampler,\n",
        "                                         num_workers=num_workers)\n",
        "\n",
        "classes = ('plane', 'car', 'bird', 'cat',\n",
        "           'deer', 'dog', 'frog', 'horse', 'ship', 'truck')"
      ],
      "execution_count": 0,
      "outputs": []
    }
  ]
}